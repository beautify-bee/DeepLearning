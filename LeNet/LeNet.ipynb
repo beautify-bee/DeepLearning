{
 "cells": [
  {
   "cell_type": "code",
   "execution_count": 1,
   "id": "f948381c",
   "metadata": {},
   "outputs": [
    {
     "name": "stdout",
     "output_type": "stream",
     "text": [
      "1.12.1+cu113\n",
      "True\n"
     ]
    }
   ],
   "source": [
    "import torch\n",
    "import torchvision\n",
    "import torch.nn as nn\n",
    "import torch.optim as optim\n",
    "import torchvision.transforms as transforms\n",
    "import matplotlib.pyplot as plt\n",
    "import numpy as np\n",
    "import time\n",
    "import torch.nn.functional as F\n",
    "from PIL import Image\n",
    "print(torch.__version__)\n",
    "print(torch.cuda.is_available())\n"
   ]
  },
  {
   "cell_type": "code",
   "execution_count": 2,
   "id": "ba005a18",
   "metadata": {},
   "outputs": [],
   "source": [
    "transform = transforms.Compose(\n",
    "    [transforms.ToTensor(),\n",
    "     transforms.Normalize((0.5, 0.5, 0.5), (0.5, 0.5, 0.5))])"
   ]
  },
  {
   "cell_type": "code",
   "execution_count": 3,
   "id": "567c20a3",
   "metadata": {},
   "outputs": [],
   "source": [
    "train_set = torchvision.datasets.CIFAR10(\n",
    "    root='./data', train = False, transform = transform)"
   ]
  },
  {
   "cell_type": "code",
   "execution_count": 14,
   "id": "f32bfa45",
   "metadata": {},
   "outputs": [],
   "source": [
    "train_loader = torch.utils.data.DataLoader(\n",
    "    train_set, batch_size = 10000, shuffle = False, num_workers=0)"
   ]
  },
  {
   "cell_type": "code",
   "execution_count": 15,
   "id": "c48313db",
   "metadata": {},
   "outputs": [],
   "source": [
    "test_data_iter = iter(train_loader)\n",
    "test_image, test_label = test_data_iter.next()"
   ]
  },
  {
   "cell_type": "code",
   "execution_count": 16,
   "id": "55694bed",
   "metadata": {},
   "outputs": [],
   "source": [
    "class LeNet(nn.Module): \n",
    "    def __init__(self):\n",
    "        super(LeNet, self).__init__()    \n",
    "        self.conv1 = nn.Conv2d(3, 16, 5)\n",
    "        self.pool1 = nn.MaxPool2d(2, 2)\n",
    "        self.conv2 = nn.Conv2d(16, 32, 5)\n",
    "        self.pool2 = nn.MaxPool2d(2, 2)\n",
    "        self.fc1 = nn.Linear(32*5*5, 120)\n",
    "        self.fc2 = nn.Linear(120, 84)\n",
    "        self.fc3 = nn.Linear(84, 10)\n",
    "\n",
    "    def forward(self, x):\n",
    "        x = F.relu(self.conv1(x))   \n",
    "        x = self.pool1(x)            \n",
    "        x = F.relu(self.conv2(x))   \n",
    "        x = self.pool2(x)            \n",
    "        x = x.view(-1, 32*5*5)     \n",
    "        x = F.relu(self.fc1(x))     \n",
    "        x = F.relu(self.fc2(x))     \n",
    "        x = self.fc3(x)              \n",
    "        return x\n"
   ]
  },
  {
   "cell_type": "code",
   "execution_count": 17,
   "id": "5e661c1c",
   "metadata": {},
   "outputs": [],
   "source": [
    "#device = torch.device(\"cuda\")\n",
    "net = LeNet()\n",
    "#net.to(device)\n",
    "loss_function =  nn.CrossEntropyLoss()\n",
    "optimizer = optim.Adam(net.parameters(), lr=0.001)\n"
   ]
  },
  {
   "cell_type": "code",
   "execution_count": 24,
   "id": "06e959b5",
   "metadata": {},
   "outputs": [
    {
     "name": "stdout",
     "output_type": "stream",
     "text": [
      "[1,     6] train_loss: 0.006 test_accuracy: 0.857\n",
      "2.681105 s\n",
      "[2,     6] train_loss: 0.006 test_accuracy: 0.863\n",
      "2.653401 s\n",
      "[3,     6] train_loss: 0.005 test_accuracy: 0.866\n",
      "2.680952 s\n",
      "[4,     6] train_loss: 0.005 test_accuracy: 0.862\n",
      "2.685626 s\n",
      "[5,     6] train_loss: 0.005 test_accuracy: 0.863\n",
      "2.681384 s\n",
      "[6,     6] train_loss: 0.005 test_accuracy: 0.865\n",
      "2.747179 s\n",
      "[7,     6] train_loss: 0.005 test_accuracy: 0.860\n",
      "2.674581 s\n",
      "[8,     6] train_loss: 0.005 test_accuracy: 0.848\n",
      "2.701328 s\n",
      "[9,     6] train_loss: 0.005 test_accuracy: 0.846\n",
      "2.647317 s\n",
      "[10,     6] train_loss: 0.005 test_accuracy: 0.866\n",
      "2.664049 s\n",
      "[11,     6] train_loss: 0.006 test_accuracy: 0.796\n",
      "2.674323 s\n",
      "[12,     6] train_loss: 0.006 test_accuracy: 0.867\n",
      "2.653489 s\n",
      "[13,     6] train_loss: 0.006 test_accuracy: 0.873\n",
      "2.667146 s\n",
      "[14,     6] train_loss: 0.005 test_accuracy: 0.823\n",
      "2.683831 s\n",
      "[15,     6] train_loss: 0.006 test_accuracy: 0.790\n",
      "2.736390 s\n",
      "[16,     6] train_loss: 0.006 test_accuracy: 0.834\n",
      "2.693111 s\n",
      "[17,     6] train_loss: 0.006 test_accuracy: 0.878\n",
      "2.652627 s\n",
      "[18,     6] train_loss: 0.005 test_accuracy: 0.869\n",
      "2.703278 s\n",
      "[19,     6] train_loss: 0.004 test_accuracy: 0.900\n",
      "2.648804 s\n",
      "[20,     6] train_loss: 0.004 test_accuracy: 0.891\n",
      "2.685353 s\n",
      "[21,     6] train_loss: 0.004 test_accuracy: 0.898\n",
      "2.788168 s\n",
      "[22,     6] train_loss: 0.004 test_accuracy: 0.900\n",
      "2.671300 s\n",
      "[23,     6] train_loss: 0.004 test_accuracy: 0.902\n",
      "2.685494 s\n",
      "[24,     6] train_loss: 0.004 test_accuracy: 0.895\n",
      "2.644708 s\n",
      "[25,     6] train_loss: 0.004 test_accuracy: 0.898\n",
      "2.674192 s\n",
      "[26,     6] train_loss: 0.004 test_accuracy: 0.889\n",
      "2.693016 s\n",
      "[27,     6] train_loss: 0.004 test_accuracy: 0.875\n",
      "2.696803 s\n",
      "[28,     6] train_loss: 0.004 test_accuracy: 0.844\n",
      "2.698247 s\n",
      "[29,     6] train_loss: 0.004 test_accuracy: 0.839\n",
      "2.671192 s\n",
      "[30,     6] train_loss: 0.005 test_accuracy: 0.851\n",
      "2.666018 s\n",
      "[31,     6] train_loss: 0.005 test_accuracy: 0.847\n",
      "2.707028 s\n",
      "[32,     6] train_loss: 0.004 test_accuracy: 0.897\n",
      "2.659664 s\n",
      "[33,     6] train_loss: 0.004 test_accuracy: 0.911\n",
      "2.680128 s\n",
      "[34,     6] train_loss: 0.004 test_accuracy: 0.901\n",
      "2.721071 s\n",
      "[35,     6] train_loss: 0.003 test_accuracy: 0.905\n",
      "2.686474 s\n",
      "[36,     6] train_loss: 0.003 test_accuracy: 0.915\n",
      "2.689004 s\n",
      "[37,     6] train_loss: 0.003 test_accuracy: 0.923\n",
      "2.681206 s\n",
      "[38,     6] train_loss: 0.003 test_accuracy: 0.908\n",
      "2.743136 s\n",
      "[39,     6] train_loss: 0.003 test_accuracy: 0.919\n",
      "2.688013 s\n",
      "[40,     6] train_loss: 0.003 test_accuracy: 0.929\n",
      "2.708870 s\n",
      "[41,     6] train_loss: 0.003 test_accuracy: 0.930\n",
      "2.691002 s\n",
      "[42,     6] train_loss: 0.003 test_accuracy: 0.933\n",
      "2.705098 s\n",
      "[43,     6] train_loss: 0.003 test_accuracy: 0.915\n",
      "2.655559 s\n",
      "[44,     6] train_loss: 0.003 test_accuracy: 0.902\n",
      "2.671981 s\n",
      "[45,     6] train_loss: 0.003 test_accuracy: 0.913\n",
      "2.692592 s\n",
      "[46,     6] train_loss: 0.003 test_accuracy: 0.916\n",
      "2.666066 s\n",
      "[47,     6] train_loss: 0.003 test_accuracy: 0.857\n",
      "2.846957 s\n",
      "[48,     6] train_loss: 0.003 test_accuracy: 0.911\n",
      "2.691385 s\n",
      "[49,     6] train_loss: 0.003 test_accuracy: 0.915\n",
      "2.671293 s\n",
      "[50,     6] train_loss: 0.003 test_accuracy: 0.912\n",
      "2.709300 s\n",
      "Finished Training\n"
     ]
    }
   ],
   "source": [
    "for epoch in range(50):\n",
    "    running_loss = 0.0\n",
    "    time_start = time.perf_counter()\n",
    "    \n",
    "    for step, data in enumerate(train_loader, start=0):\n",
    "        inputs, labels = data\n",
    "        optimizer.zero_grad()\n",
    "        \n",
    "        outputs = net(inputs)\n",
    "        loss = loss_function(outputs, labels)\n",
    "        loss.backward()\n",
    "        optimizer.step()\n",
    "        \n",
    "        running_loss += loss.item()\n",
    "        #print(step)\n",
    "        if step == 5:\n",
    "            with torch.no_grad():\n",
    "                outputs = net(test_image)\n",
    "                predict_y = torch.max(outputs, dim=1)[1]\n",
    "                accuray = (predict_y == test_label).sum().item()/test_label.size(0)\n",
    "                \n",
    "                print('[%d, %5d] train_loss: %.3f test_accuracy: %.3f' %(epoch+1, step+1, running_loss/500, accuray))\n",
    "                \n",
    "                print('%f s' % (time.perf_counter() - time_start))\n",
    "                running_loss = 0.0\n",
    "                \n",
    "print('Finished Training')\n",
    "\n",
    "\n",
    "save_path = './Lenet.pth'\n",
    "torch.save(net.state_dict(), save_path)     "
   ]
  },
  {
   "cell_type": "code",
   "execution_count": 25,
   "id": "4a2974d1",
   "metadata": {},
   "outputs": [],
   "source": [
    "transform = transforms.Compose(\n",
    "    [transforms.Resize((32, 32)),\n",
    "    transforms.ToTensor(),\n",
    "    transforms.Normalize((0.5, 0.5, 0.5), (0.5, 0.5, 0.5))])\n",
    "\n",
    "im = Image.open('flower.jpg')\n",
    "im = transform(im)\n",
    "im = torch.unsqueeze(im, dim=0)\n",
    "\n",
    "net = LeNet()\n",
    "net.load_state_dict(torch.load('Lenet.pth'))\n",
    "\n",
    "classes = ('plane', 'car', 'bird', 'cat', 'deer', 'dog', 'frog', 'horse', 'ship', 'truck')\n"
   ]
  },
  {
   "cell_type": "code",
   "execution_count": 26,
   "id": "662969cf",
   "metadata": {},
   "outputs": [
    {
     "name": "stdout",
     "output_type": "stream",
     "text": [
      "plane\n"
     ]
    }
   ],
   "source": [
    "with torch.no_grad():\n",
    "    outputs = net(im)\n",
    "    predict = torch.max(outputs, dim=1)[1].data.numpy()\n",
    "    \n",
    "print(classes[int(predict)])"
   ]
  },
  {
   "cell_type": "code",
   "execution_count": null,
   "id": "78d8408b",
   "metadata": {},
   "outputs": [],
   "source": []
  }
 ],
 "metadata": {
  "kernelspec": {
   "display_name": "Python 3 (ipykernel)",
   "language": "python",
   "name": "python3"
  },
  "language_info": {
   "codemirror_mode": {
    "name": "ipython",
    "version": 3
   },
   "file_extension": ".py",
   "mimetype": "text/x-python",
   "name": "python",
   "nbconvert_exporter": "python",
   "pygments_lexer": "ipython3",
   "version": "3.9.12"
  }
 },
 "nbformat": 4,
 "nbformat_minor": 5
}
