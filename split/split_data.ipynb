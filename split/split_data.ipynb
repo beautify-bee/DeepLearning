{
 "cells": [
  {
   "cell_type": "code",
   "execution_count": 3,
   "id": "ceca3802",
   "metadata": {
    "pycharm": {
     "name": "#%%\n"
    }
   },
   "outputs": [
    {
     "name": "stdout",
     "output_type": "stream",
     "text": [
      "[daisy] processing [633/633]\n",
      "[dandelion] processing [898/898]\n",
      "[roses] processing [641/641]\n",
      "[sunflowers] processing [699/699]\n",
      "[tulips] processing [799/799]\n",
      "processing done!\n"
     ]
    }
   ],
   "source": [
    "import os\n",
    "from shutil import copy\n",
    "import random\n",
    "\n",
    "\n",
    "def mkfile(file):\n",
    "    if not os.path.exists(file):\n",
    "        os.makedirs(file)\n",
    "        \n",
    "# 获取 flower_photos 文件夹下除 .txt 文件以外所有文件夹名（即5种花的类名）\n",
    "file_path = './flower_photos'\n",
    "flower_class = [cla for cla in os.listdir(file_path) if \".txt\" not in cla] \n",
    "\n",
    "# 创建 训练集train 文件夹，并由5种类名在其目录下创建5个子目录\n",
    "for cla in flower_class:\n",
    "    mkfile('flower_data/train/'+cla)\n",
    "    \n",
    "# 创建 验证集val 文件夹，并由5种类名在其目录下创建5个子目录\n",
    "for cla in flower_class:\n",
    "    mkfile('flower_data/val/'+cla)\n",
    "\n",
    "# 划分比例，训练集 : 验证集 = 9 : 1\n",
    "split_rate = 0.3\n",
    "\n",
    "# 遍历5种花的全部图像并按比例分成训练集和验证集\n",
    "for cla in flower_class:\n",
    "    cla_path = file_path + '/' + cla + '/'  # 某一类别花的子目录\n",
    "    images = os.listdir(cla_path)\t\t    # iamges 列表存储了该目录下所有图像的名称\n",
    "    num = len(images)\n",
    "    eval_index = random.sample(images, k=int(num*split_rate)) # 从images列表中随机抽取 k 个图像名称\n",
    "    for index, image in enumerate(images):\n",
    "    \t# eval_index 中保存验证集val的图像名称\n",
    "        if image in eval_index:\t\t\t\t\t\n",
    "            image_path = cla_path + image\n",
    "            new_path = 'flower_data/val/' + cla\n",
    "            copy(image_path, new_path)  # 将选中的图像复制到新路径\n",
    "           \n",
    "        # 其余的图像保存在训练集train中\n",
    "        else:\n",
    "            image_path = cla_path + image\n",
    "            new_path = 'flower_data/train/' + cla\n",
    "            copy(image_path, new_path)\n",
    "        print(\"\\r[{}] processing [{}/{}]\".format(cla, index+1, num), end=\"\")  # processing bar\n",
    "    print()\n",
    "\n",
    "print(\"processing done!\")"
   ]
  },
  {
   "cell_type": "code",
   "execution_count": 4,
   "id": "40d58d3a",
   "metadata": {
    "pycharm": {
     "name": "#%%\n"
    }
   },
   "outputs": [
    {
     "name": "stdout",
     "output_type": "stream",
     "text": [
      "['daisy', 'dandelion', 'roses', 'sunflowers', 'tulips']\n",
      "3670 images were found in the dataset.\n",
      "2572 for training, 1098 for validation\n",
      "['./flower_photos\\\\daisy\\\\100080576_f52e8ee070_n.jpg']\n",
      "[0]\n",
      "['./flower_photos\\\\daisy\\\\10140303196_b88d3d6cec.jpg']\n",
      "[0]\n"
     ]
    }
   ],
   "source": [
    "import matplotlib.pyplot as plt\n",
    "import os\n",
    "import json\n",
    "import random\n",
    "\n",
    "def read_split_data(root: str, val_rate: float = 0.2):\n",
    "    random.seed(0)  # 保证随机划分结果一致\n",
    "    assert os.path.exists(root), \"dataset root: {} does not exist.\".format(root)\n",
    "\n",
    "    # 遍历文件夹，一个文件夹对应一个类别\n",
    "    flower_class = [cla for cla in os.listdir(root) if os.path.isdir(os.path.join(root, cla))]\n",
    "    print(flower_class)\n",
    "    # 排序，保证顺序一致\n",
    "    flower_class.sort()\n",
    "    # 生成类别名称以及对应的数字索引\n",
    "    class_indices = dict((k, v) for v, k in enumerate(flower_class))\n",
    "    json_str = json.dumps(dict((val, key) for key, val in class_indices.items()), indent=4)\n",
    "    with open('class_indices.json', 'w') as json_file:\n",
    "        json_file.write(json_str)\n",
    "\n",
    "    train_images_path = []  # 存储训练集的所有图片路径\n",
    "    train_images_label = []  # 存储训练集图片对应索引信息\n",
    "    val_images_path = []  # 存储验证集的所有图片路径\n",
    "    val_images_label = []  # 存储验证集图片对应索引信息\n",
    "    every_class_num = []  # 存储每个类别的样本总数\n",
    "    supported = [\".jpg\", \".JPG\", \".jpeg\", \".JPEG\"]  # 支持的文件后缀类型\n",
    "    # 遍历每个文件夹下的文件\n",
    "    for cla in flower_class:\n",
    "        cla_path = os.path.join(root, cla)\n",
    "        # 遍历获取supported支持的所有文件路径\n",
    "        images = [os.path.join(root, cla, i) for i in os.listdir(cla_path)\n",
    "                  if os.path.splitext(i)[-1] in supported]\n",
    "        # 获取该类别对应的索引\n",
    "        image_class = class_indices[cla]\n",
    "        # 记录该类别的样本数量\n",
    "        every_class_num.append(len(images))\n",
    "        # 按比例随机采样验证样本\n",
    "        val_path = random.sample(images, k=int(len(images) * val_rate))\n",
    "\n",
    "        for img_path in images:\n",
    "            if img_path in val_path:  # 如果该路径在采样的验证集样本中则存入验证集\n",
    "                val_images_path.append(img_path)\n",
    "                val_images_label.append(image_class)\n",
    "            else:  # 否则存入训练集\n",
    "                train_images_path.append(img_path)\n",
    "                train_images_label.append(image_class)\n",
    "\n",
    "    print(\"{} images were found in the dataset.\\n{} for training, {} for validation\".format(sum(every_class_num),\n",
    "                                                                                            len(train_images_path),\n",
    "                                                                                            len(val_images_path)\n",
    "                                                                                            ))\n",
    "\n",
    "    plot_image = False\n",
    "    if plot_image:\n",
    "        # 绘制每种类别个数柱状图\n",
    "        plt.bar(range(len(flower_class)), every_class_num, align='center')\n",
    "        # 将横坐标0,1,2,3,4替换为相应的类别名称\n",
    "        plt.xticks(range(len(flower_class)), flower_class)\n",
    "        # 在柱状图上添加数值标签\n",
    "        for i, v in enumerate(every_class_num):\n",
    "            plt.text(x=i, y=v + 5, s=str(v), ha='center')\n",
    "        # 设置x坐标\n",
    "        plt.xlabel('image class')\n",
    "        # 设置y坐标\n",
    "        plt.ylabel('number of images')\n",
    "        # 设置柱状图的标题\n",
    "        plt.title('flower class distribution')\n",
    "        plt.show()\n",
    "\n",
    "    print(train_images_path[:1])\n",
    "    print(train_images_label[:1])\n",
    "    print(val_images_path[:1])\n",
    "    print(val_images_label[:1])\n",
    "    return train_images_path, train_images_label, val_images_path, val_images_label\n",
    "\n",
    "if __name__ == '__main__':\n",
    "    path = './flower_photos'\n",
    "    read_split_data(path , 0.3)"
   ]
  },
  {
   "cell_type": "code",
   "execution_count": null,
   "outputs": [],
   "source": [],
   "metadata": {
    "collapsed": false,
    "pycharm": {
     "name": "#%%\n"
    }
   }
  }
 ],
 "metadata": {
  "kernelspec": {
   "display_name": "Python 3 (ipykernel)",
   "language": "python",
   "name": "python3"
  },
  "language_info": {
   "codemirror_mode": {
    "name": "ipython",
    "version": 3
   },
   "file_extension": ".py",
   "mimetype": "text/x-python",
   "name": "python",
   "nbconvert_exporter": "python",
   "pygments_lexer": "ipython3",
   "version": "3.9.12"
  }
 },
 "nbformat": 4,
 "nbformat_minor": 5
}