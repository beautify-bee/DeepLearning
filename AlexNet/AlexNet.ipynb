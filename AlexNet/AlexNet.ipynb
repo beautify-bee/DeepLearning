{
 "cells": [
  {
   "cell_type": "code",
   "execution_count": 27,
   "id": "7a337ec1",
   "metadata": {
    "pycharm": {
     "name": "#%%\n"
    }
   },
   "outputs": [
    {
     "name": "stdout",
     "output_type": "stream",
     "text": [
      "cpu\n"
     ]
    }
   ],
   "source": [
    "import torch\n",
    "import torch.nn as nn\n",
    "from torchvision import transforms, datasets, utils\n",
    "import matplotlib.pyplot as plt\n",
    "import numpy as np\n",
    "import torch.optim as optim\n",
    "import os\n",
    "import json\n",
    "import time\n",
    "\n",
    "device = torch.device(\"cpu\")\n",
    "print(device)"
   ]
  },
  {
   "cell_type": "code",
   "execution_count": 28,
   "id": "68e90941",
   "metadata": {
    "pycharm": {
     "name": "#%%\n"
    }
   },
   "outputs": [],
   "source": [
    "class AlexNet(nn.Module):\n",
    "    def __init__(self, num_classes = 1000, init_weights = False):\n",
    "        super(AlexNet, self).__init__()\n",
    "        \n",
    "        self.features = nn.Sequential(\n",
    "            nn.Conv2d(3, 48, kernel_size = 11, stride = 4, padding = 2),\n",
    "            nn.ReLU(inplace = True),\n",
    "            nn.MaxPool2d(kernel_size=3, stride=2),\n",
    "            nn.Conv2d(48, 128, kernel_size=5, padding=2),\n",
    "            nn.ReLU(inplace = True),\n",
    "            nn.MaxPool2d(kernel_size=3, stride=2),\n",
    "            nn.Conv2d(128, 192, kernel_size=3, padding=1),\n",
    "            nn.ReLU(inplace = True),\n",
    "            nn.Conv2d(192, 192, kernel_size=3, padding=1),\n",
    "            nn.ReLU(inplace=True),\n",
    "            nn.Conv2d(192, 128, kernel_size=3, padding=1), \n",
    "            nn.ReLU(inplace=True),\n",
    "            nn.MaxPool2d(kernel_size=3, stride=2),\n",
    "        \n",
    "        )\n",
    "        \n",
    "        self.classifier = nn.Sequential(\n",
    "            nn.Dropout(p=0.5),\n",
    "            nn.Linear(128*6*6, 2048),\n",
    "            nn.ReLU(inplace=True),\n",
    "            nn.Dropout(p=0.5),\n",
    "            nn.Linear(2048, 2048),\n",
    "            nn.ReLU(inplace=True),\n",
    "            nn.Linear(2048, num_classes),\n",
    "        \n",
    "        )\n",
    "        \n",
    "        if init_weights:\n",
    "            self._initialize_weights()\n",
    "            \n",
    "            \n",
    "    def forward(self, x):\n",
    "        x = self.features(x)\n",
    "        x = torch.flatten(x, start_dim = 1)\n",
    "        x = self.classifier(x)\n",
    "        return x\n",
    "        \n",
    "        \n",
    "    def _initialize_weights(self):\n",
    "        for m in self.modules():\n",
    "            if isinstance(m, nn.Conv2d):\n",
    "                nn.init.kaiming_normal_(m.weight, mode='fan_out', nonlinearity='relu')\n",
    "                    \n",
    "                if m.bias is not None:\n",
    "                    nn.init.constant_(m.bias, 0)\n",
    "                \n",
    "            elif isinstance(m, nn.Linear):\n",
    "                nn.init.normal_(m.weight, 0, 0.01)\n",
    "                nn.init.constant_(m.bias, 0)"
   ]
  },
  {
   "cell_type": "code",
   "execution_count": 29,
   "id": "adf88f37",
   "metadata": {
    "pycharm": {
     "name": "#%%\n"
    }
   },
   "outputs": [],
   "source": [
    "data_transform = {\n",
    "    \"train\": transforms.Compose([transforms.RandomResizedCrop(224),\n",
    "                                 transforms.RandomHorizontalFlip(p=0.5),\n",
    "                                 transforms.ToTensor(),\n",
    "                                 transforms.Normalize((0.5, 0.5, 0.5), (0.5, 0.5, 0.5))\n",
    "                                ]),\n",
    "    \n",
    "    \"val\": transforms.Compose([transforms.Resize((224, 224)), \n",
    "                               transforms.ToTensor(),\n",
    "                               transforms.Normalize((0.5, 0.5, 0.5), (0.5, 0.5, 0.5))\n",
    "        \n",
    "    ])\n",
    "}"
   ]
  },
  {
   "cell_type": "code",
   "execution_count": 30,
   "id": "89707b24",
   "metadata": {
    "pycharm": {
     "name": "#%%\n"
    }
   },
   "outputs": [],
   "source": [
    "data_root = os.path.abspath(os.path.join(os.getcwd(), \"../..\"))\n",
    "image_path = data_root + \"Users/Administrator/flower_data/\"\n",
    "\n",
    "train_dataset = datasets.ImageFolder(root=image_path + \"/train\",\n",
    "                                     transform=data_transform[\"train\"])\n",
    "\n",
    "train_num = len(train_dataset)\n",
    "\n",
    "train_loader = torch.utils.data.DataLoader(train_dataset,\n",
    "                                           batch_size=32,\n",
    "                                           shuffle=True,\n",
    "                                           num_workers=0\n",
    "                                          )"
   ]
  },
  {
   "cell_type": "code",
   "execution_count": 31,
   "id": "eceba841",
   "metadata": {
    "pycharm": {
     "name": "#%%\n"
    }
   },
   "outputs": [],
   "source": [
    "validate_dataset = datasets.ImageFolder(root=image_path + \"/val\",\n",
    "                                        transform=data_transform[\"val\"])\n",
    "\n",
    "val_num = len(validate_dataset)\n",
    "\n",
    "validate_loader = torch.utils.data.DataLoader(validate_dataset,\n",
    "                                              batch_size=32,\n",
    "                                              shuffle=True,\n",
    "                                              num_workers=0\n",
    "                                             )"
   ]
  },
  {
   "cell_type": "code",
   "execution_count": 32,
   "id": "7c0ee142",
   "metadata": {
    "pycharm": {
     "name": "#%%\n"
    }
   },
   "outputs": [],
   "source": [
    "# 字典，类别：索引 {'daisy':0, 'dandelion':1, 'roses':2, 'sunflower':3, 'tulips':4}\n",
    "flower_list = train_dataset.class_to_idx\n",
    "# 将 flower_list 中的 key 和 val 调换位置\n",
    "cla_dict = dict((val, key) for key, val in flower_list.items())\n",
    "\n",
    "# 将 cla_dict 写入 json 文件中\n",
    "json_str = json.dumps(cla_dict, indent=4)\n",
    "with open('class_indices.json', 'w') as json_file:\n",
    "    json_file.write(json_str)\n"
   ]
  },
  {
   "cell_type": "code",
   "execution_count": 33,
   "id": "c67e70ee",
   "metadata": {
    "pycharm": {
     "name": "#%%\n"
    }
   },
   "outputs": [
    {
     "name": "stdout",
     "output_type": "stream",
     "text": [
      "train loss: 100%[**************************************************->]1.560\n",
      "43.898343 s\n",
      "[epoch 1] train_loss: 1.413  test_accuracy: 0.424 \n",
      "\n",
      "train loss: 100%[**************************************************->]1.352\n",
      "44.489712 s\n",
      "[epoch 2] train_loss: 1.249  test_accuracy: 0.504 \n",
      "\n",
      "train loss: 100%[**************************************************->]1.187\n",
      "43.125236 s\n",
      "[epoch 3] train_loss: 1.188  test_accuracy: 0.578 \n",
      "\n",
      "train loss: 100%[**************************************************->]0.857\n",
      "43.734212 s\n",
      "[epoch 4] train_loss: 1.109  test_accuracy: 0.566 \n",
      "\n",
      "train loss: 100%[**************************************************->]1.364\n",
      "43.973357 s\n",
      "[epoch 5] train_loss: 1.049  test_accuracy: 0.650 \n",
      "\n",
      "train loss: 100%[**************************************************->]1.108\n",
      "44.918972 s\n",
      "[epoch 6] train_loss: 0.989  test_accuracy: 0.664 \n",
      "\n",
      "train loss: 100%[**************************************************->]0.620\n",
      "45.390587 s\n",
      "[epoch 7] train_loss: 0.940  test_accuracy: 0.658 \n",
      "\n",
      "train loss: 100%[**************************************************->]0.531\n",
      "45.605464 s\n",
      "[epoch 8] train_loss: 0.904  test_accuracy: 0.691 \n",
      "\n",
      "train loss: 100%[**************************************************->]1.030\n",
      "45.374455 s\n",
      "[epoch 9] train_loss: 0.878  test_accuracy: 0.690 \n",
      "\n",
      "train loss: 100%[**************************************************->]0.837\n",
      "44.207698 s\n",
      "[epoch 10] train_loss: 0.859  test_accuracy: 0.695 \n",
      "\n",
      "Finished Training\n"
     ]
    }
   ],
   "source": [
    "net = AlexNet(num_classes = 5, init_weights= True)\n",
    "net.to(device)\n",
    "loss_function = nn.CrossEntropyLoss()\n",
    "optimizer = optim.Adam(net.parameters(), lr = 0.0002)\n",
    "\n",
    "save_path = './AlexNet.pth'\n",
    "best_acc = 0.0\n",
    "\n",
    "for epoch in range(10):\n",
    "    net.train()\n",
    "    running_loss = 0.0\n",
    "    time_start = time.perf_counter()\n",
    "    \n",
    "    for step, data in enumerate(train_loader, start= 0):\n",
    "        images, labels = data\n",
    "        optimizer.zero_grad()\n",
    "        \n",
    "        outputs = net(images.to(device))\n",
    "        loss = loss_function(outputs, labels.to(device))\n",
    "        loss.backward()\n",
    "        optimizer.step()\n",
    "        running_loss += loss.item()\n",
    "        \n",
    "        rate = (step + 1) / len(train_loader)\n",
    "        a = \"*\" * int(rate * 50)\n",
    "        b = \".\" * int((1 - rate) * 50)\n",
    "        print(\"\\rtrain loss: {:^3.0f}%[{}->{}]{:.3f}\".format(int(rate * 100), a, b, loss), end=\"\")\n",
    "    print()\n",
    "    print('%f s' % (time.perf_counter() - time_start))\n",
    "    \n",
    "    \n",
    "    net.eval()\n",
    "    acc = 0.0\n",
    "    with torch.no_grad():\n",
    "        for val_data in validate_loader:\n",
    "            val_images, val_labels = val_data\n",
    "            outputs = net(val_images.to(device))\n",
    "            predict_y = torch.max(outputs, dim=1)[1]  # 以output中值最大位置对应的索引（标签）作为预测输出\n",
    "            acc += (predict_y == val_labels.to(device)).sum().item()    \n",
    "        val_accurate = acc / val_num\n",
    "        \n",
    "        # 保存准确率最高的那次网络参数\n",
    "        if val_accurate > best_acc:\n",
    "            best_acc = val_accurate\n",
    "            torch.save(net.state_dict(), save_path)\n",
    "            \n",
    "        print('[epoch %d] train_loss: %.3f  test_accuracy: %.3f \\n' %\n",
    "              (epoch + 1, running_loss / step, val_accurate))\n",
    "\n",
    "print('Finished Training')\n",
    "\n",
    "    "
   ]
  },
  {
   "cell_type": "code",
   "execution_count": null,
   "id": "f2d8cec6",
   "metadata": {
    "pycharm": {
     "name": "#%%\n"
    }
   },
   "outputs": [],
   "source": []
  }
 ],
 "metadata": {
  "kernelspec": {
   "display_name": "Python 3 (ipykernel)",
   "language": "python",
   "name": "python3"
  },
  "language_info": {
   "codemirror_mode": {
    "name": "ipython",
    "version": 3
   },
   "file_extension": ".py",
   "mimetype": "text/x-python",
   "name": "python",
   "nbconvert_exporter": "python",
   "pygments_lexer": "ipython3",
   "version": "3.9.12"
  }
 },
 "nbformat": 4,
 "nbformat_minor": 5
}