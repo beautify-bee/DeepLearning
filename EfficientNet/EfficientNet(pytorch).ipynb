{
 "cells": [
  {
   "cell_type": "code",
   "execution_count": 2,
   "metadata": {
    "collapsed": true,
    "pycharm": {
     "name": "#%%\n"
    }
   },
   "outputs": [
    {
     "name": "stdout",
     "output_type": "stream",
     "text": [
      "cuda\n",
      "Using 8 dataloader workers every process\n"
     ]
    }
   ],
   "source": [
    "import os\n",
    "import math\n",
    "import argparse\n",
    "import random\n",
    "\n",
    "import torch.optim.lr_scheduler as lr_scheduler\n",
    "import torch\n",
    "import torch.optim as optim\n",
    "import json\n",
    "import glob\n",
    "from torch.utils.tensorboard import SummaryWriter\n",
    "from torchvision import transforms\n",
    "from PIL import Image\n",
    "from torchvision import transforms, datasets\n",
    "device = torch.device(\"cuda\")\n",
    "print(device)\n",
    "tb_writer = SummaryWriter()\n",
    "if os.path.exists(\"./save_weights\") is False:\n",
    "    os.makedirs(\"./save_weights\")\n",
    "batch_size = 16\n",
    "\n",
    "nw = min([os.cpu_count(), batch_size if batch_size > 1 else 0, 8])  # number of workers\n",
    "print('Using {} dataloader workers every process'.format(nw))"
   ]
  },
  {
   "cell_type": "code",
   "execution_count": null,
   "outputs": [],
   "source": [
    "data_root = os.path.abspath(os.path.join(os.getcwd(), \"../..\"))\n",
    "assert os.path.exists(data_root),\"file: {} does not exist\".format(data_root)\n",
    "\n",
    "train_dir = os.path.join(data_root, \"train\")\n",
    "val_dir = os.path.join(data_root, \"val\")\n",
    "\n",
    "flower_class = [cla for cla in os.listdir(train_dir) if os.path.isdir(os.path.join(train_dir, cla))]\n",
    "class_dict = dict((value, index) for index, value in enumerate(flower_class))\n",
    "class_indices = dict((k, v) for v,k in enumerate(flower_class))\n",
    "json_str = json.dumps(dict((val, key) for key, val in class_indices.items()), indent=4)\n",
    "with open('class.json', 'w') as json_file:\n",
    "    json_file.write(json_str)\n",
    "\n",
    "train_img_path = glob.glob(train_dir + \"/*/*.jpg\")\n",
    "random.shuffle(train_img_path)\n",
    "train_label_list = [class_dict[path.split(os.path.sep)[-2]] for path in train_img_path]\n",
    "train_num = len(train_img_path)\n",
    "\n",
    "val_img_path = glob.glob(val_dir + \"/*/*.jpg\" )\n",
    "random.shuffle(val_img_path)\n",
    "val_label_list = [class_dict[path.split(os.path.sep)[-2]] for path in val_img_path]\n",
    "val_num = len(val_img_path)"
   ],
   "metadata": {
    "collapsed": false,
    "pycharm": {
     "name": "#%%\n"
    }
   }
  },
  {
   "cell_type": "code",
   "execution_count": null,
   "outputs": [],
   "source": [
    "img_size = {\"B0\": 224,\n",
    "            \"B1\": 240,\n",
    "           \"B2\": 260,\n",
    "            \"B3\": 300,\n",
    "            \"B4\": 380,\n",
    "            \"B5\": 456,\n",
    "            \"B6\": 528,\n",
    "            \"B7\": 600}\n",
    "num_model = \"B0\"\n",
    "\n",
    "\n",
    "\n",
    "data_transform = {\n",
    "    \"train\": transforms.Compose([transforms.RandomResizedCrop(img_size[num_model]),\n",
    "                                 transforms.RandomHorizontalFlip(),\n",
    "                                 transforms.ToTensor(),\n",
    "                                 transforms.Normalize([0.485, 0.456, 0.406], [0.229, 0.224, 0.225])]),\n",
    "    \"val\": transforms.Compose([transforms.Resize(img_size[num_model]),\n",
    "                               transforms.CenterCrop(img_size[num_model]),\n",
    "                               transforms.ToTensor(),\n",
    "                               transforms.Normalize([0.485, 0.456, 0.406], [0.229, 0.224, 0.225])])\n",
    "}\n",
    "\n",
    "train_dataset = datasets.ImageFolder(train_dir, transform=data_transform['train'])\n",
    "val_dataset = datasets.ImageFolder(val_dir, transform=data_transform['val'])\n",
    "\n",
    "train_num = len(train_dataset)\n",
    "validate_num = len(validate_dataset)\n",
    "\n",
    "train_loader = torch.utils.data.DataLoader(train_dataset,\n",
    "                                           batch_size=batch_size,\n",
    "                                           shuffle=True,\n",
    "                                           pin_memory=True,\n",
    "                                           num_workers=nw,\n",
    "                                           collate_fn=train_dataset.coll\n",
    "                                           )"
   ],
   "metadata": {
    "collapsed": false,
    "pycharm": {
     "name": "#%%\n"
    }
   }
  },
  {
   "cell_type": "code",
   "execution_count": null,
   "outputs": [],
   "source": [],
   "metadata": {
    "collapsed": false,
    "pycharm": {
     "name": "#%%\n"
    }
   }
  },
  {
   "cell_type": "code",
   "execution_count": null,
   "outputs": [],
   "source": [],
   "metadata": {
    "collapsed": false,
    "pycharm": {
     "name": "#%%\n"
    }
   }
  },
  {
   "cell_type": "code",
   "execution_count": null,
   "outputs": [],
   "source": [],
   "metadata": {
    "collapsed": false,
    "pycharm": {
     "name": "#%%\n"
    }
   }
  },
  {
   "cell_type": "code",
   "execution_count": null,
   "outputs": [],
   "source": [],
   "metadata": {
    "collapsed": false,
    "pycharm": {
     "name": "#%%\n"
    }
   }
  },
  {
   "cell_type": "code",
   "execution_count": null,
   "outputs": [],
   "source": [],
   "metadata": {
    "collapsed": false,
    "pycharm": {
     "name": "#%%\n"
    }
   }
  },
  {
   "cell_type": "code",
   "execution_count": null,
   "outputs": [],
   "source": [],
   "metadata": {
    "collapsed": false,
    "pycharm": {
     "name": "#%%\n"
    }
   }
  },
  {
   "cell_type": "code",
   "execution_count": null,
   "outputs": [],
   "source": [],
   "metadata": {
    "collapsed": false,
    "pycharm": {
     "name": "#%%\n"
    }
   }
  }
 ],
 "metadata": {
  "kernelspec": {
   "display_name": "Python 3",
   "language": "python",
   "name": "python3"
  },
  "language_info": {
   "codemirror_mode": {
    "name": "ipython",
    "version": 2
   },
   "file_extension": ".py",
   "mimetype": "text/x-python",
   "name": "python",
   "nbconvert_exporter": "python",
   "pygments_lexer": "ipython2",
   "version": "2.7.6"
  }
 },
 "nbformat": 4,
 "nbformat_minor": 0
}