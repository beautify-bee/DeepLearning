{
 "cells": [
  {
   "cell_type": "code",
   "execution_count": 1,
   "metadata": {
    "collapsed": true,
    "pycharm": {
     "name": "#%%\n"
    }
   },
   "outputs": [],
   "source": [
    "import numpy as np\n",
    "from matplotlib import pyplot as plt\n",
    "from sklearn.model_selection import train_test_split"
   ]
  },
  {
   "cell_type": "code",
   "execution_count": 2,
   "outputs": [
    {
     "name": "stdout",
     "output_type": "stream",
     "text": [
      "(100, 3)\n",
      "[[34.62366  78.0247    0.      ]\n",
      " [30.28671  43.894997  0.      ]\n",
      " [35.84741  72.9022    0.      ]\n",
      " [60.1826   86.308556  1.      ]\n",
      " [79.03274  75.344376  1.      ]\n",
      " [45.08328  56.316372  0.      ]\n",
      " [61.106663 96.51143   1.      ]\n",
      " [75.02474  46.554012  1.      ]\n",
      " [76.098785 87.42057   1.      ]\n",
      " [84.43282  43.533394  1.      ]\n",
      " [95.86156  38.225277  0.      ]\n",
      " [75.01366  30.603264  0.      ]\n",
      " [82.30705  76.481964  1.      ]\n",
      " [69.364586 97.71869   1.      ]\n",
      " [39.538338 76.03681   0.      ]\n",
      " [53.97105  89.20735   1.      ]\n",
      " [69.070145 52.74047   1.      ]\n",
      " [67.94685  46.678574  0.      ]\n",
      " [70.66151  92.92714   1.      ]\n",
      " [76.97878  47.575962  1.      ]\n",
      " [67.372025 42.83844   0.      ]\n",
      " [89.67677  65.79936   1.      ]\n",
      " [50.53479  48.855812  0.      ]\n",
      " [34.212063 44.20953   0.      ]\n",
      " [77.924095 68.97236   1.      ]\n",
      " [62.271015 69.95446   1.      ]\n",
      " [80.19018  44.82163   1.      ]\n",
      " [93.11439  38.80067   0.      ]\n",
      " [61.830208 50.256107  0.      ]\n",
      " [38.785805 64.99568   0.      ]\n",
      " [61.379288 72.807884  1.      ]\n",
      " [85.40452  57.051983  1.      ]\n",
      " [52.10798  63.127625  0.      ]\n",
      " [52.045406 69.43286   1.      ]\n",
      " [40.236893 71.16775   0.      ]\n",
      " [54.635105 52.213886  0.      ]\n",
      " [33.9155   98.86944   0.      ]\n",
      " [64.17699  80.90806   1.      ]\n",
      " [74.78925  41.573414  0.      ]\n",
      " [34.18364  75.23772   0.      ]\n",
      " [83.9024   56.308044  1.      ]\n",
      " [51.54772  46.85629   0.      ]\n",
      " [94.44337  65.568924  1.      ]\n",
      " [82.36875  40.618256  0.      ]\n",
      " [51.047752 45.8227    0.      ]\n",
      " [62.222675 52.060993  0.      ]\n",
      " [77.19303  70.4582    1.      ]\n",
      " [97.7716   86.72782   1.      ]\n",
      " [62.073063 96.76882   1.      ]\n",
      " [91.56497  88.69629   1.      ]\n",
      " [79.94482  74.16312   1.      ]\n",
      " [99.27253  60.99903   1.      ]\n",
      " [90.546715 43.390602  1.      ]\n",
      " [34.524513 60.396343  0.      ]\n",
      " [50.286495 49.80454   0.      ]\n",
      " [49.586678 59.808952  0.      ]\n",
      " [97.64564  68.86157   1.      ]\n",
      " [32.5772   95.59855   0.      ]\n",
      " [74.24869  69.82457   1.      ]\n",
      " [71.79646  78.45356   1.      ]\n",
      " [75.395615 85.75993   1.      ]\n",
      " [35.286114 47.020515  0.      ]\n",
      " [56.25382  39.26147   0.      ]\n",
      " [30.058823 49.592976  0.      ]\n",
      " [44.668262 66.45009   0.      ]\n",
      " [66.5609   41.0921    0.      ]\n",
      " [40.45755  97.53519   1.      ]\n",
      " [49.072563 51.883213  0.      ]\n",
      " [80.27957  92.11606   1.      ]\n",
      " [66.74672  60.991394  1.      ]\n",
      " [32.72283  43.307175  0.      ]\n",
      " [64.03932  78.031685  1.      ]\n",
      " [72.3465   96.22759   1.      ]\n",
      " [60.457886 73.095     1.      ]\n",
      " [58.840958 75.85845   1.      ]\n",
      " [99.82786  72.369255  1.      ]\n",
      " [47.26427  88.47587   1.      ]\n",
      " [50.45816  75.80986   1.      ]\n",
      " [60.455555 42.508408  0.      ]\n",
      " [82.22666  42.71988   0.      ]\n",
      " [88.913895 69.80379   1.      ]\n",
      " [94.8345   45.694305  1.      ]\n",
      " [67.31926  66.589355  1.      ]\n",
      " [57.238705 59.514282  1.      ]\n",
      " [80.36675  90.96015   1.      ]\n",
      " [68.46852  85.59431   1.      ]\n",
      " [42.075455 78.84479   0.      ]\n",
      " [75.4777   90.42454   1.      ]\n",
      " [78.63542  96.64743   1.      ]\n",
      " [52.348003 60.769505  0.      ]\n",
      " [94.09433  77.1591    1.      ]\n",
      " [90.44855  87.50879   1.      ]\n",
      " [55.482162 35.5707    0.      ]\n",
      " [74.49269  84.84514   1.      ]\n",
      " [89.84581  45.358284  1.      ]\n",
      " [83.48917  48.380287  1.      ]\n",
      " [42.2617   87.10385   1.      ]\n",
      " [99.31501  68.775406  1.      ]\n",
      " [55.34002  64.93194   1.      ]\n",
      " [74.775894 89.529816  1.      ]]\n"
     ]
    }
   ],
   "source": [
    "# loading data\n",
    "data = np.loadtxt('data2.txt',delimiter=',')\n",
    "print(data.shape)\n",
    "num_feature = data.shape[1] - 1\n",
    "data = data.astype('float32')\n",
    "print(data)"
   ],
   "metadata": {
    "collapsed": false,
    "pycharm": {
     "name": "#%%\n"
    }
   }
  },
  {
   "cell_type": "code",
   "execution_count": 3,
   "outputs": [],
   "source": [
    "# data normalization\n",
    "data_ori = data.copy()\n",
    "maximum = np.max(data[:, :num_feature],axis=0,keepdims=True)\n",
    "minimun = np.min(data[:, :num_feature],axis=0,keepdims=True)\n",
    "data[:, :num_feature] = (data[:, :num_feature] - minimun)/(maximum - minimun)"
   ],
   "metadata": {
    "collapsed": false,
    "pycharm": {
     "name": "#%%\n"
    }
   }
  },
  {
   "cell_type": "code",
   "execution_count": 4,
   "outputs": [],
   "source": [
    "# train val split\n",
    "data_train, data_test = train_test_split(data, test_size=0.3, random_state=42)\n",
    "X_train = data_train[:, :2]\n",
    "X_train = np.concatenate((X_train, np.ones((X_train.shape[0],1))), axis=1)\n",
    "y_train = data_train[:, 2].reshape(-1,1)\n",
    "X_test = data_test[:, :2]\n",
    "X_test = np.concatenate((X_test, np.ones((X_test.shape[0],1))), axis=1)\n",
    "y_test = data_test[:, 2].reshape(-1,1)"
   ],
   "metadata": {
    "collapsed": false,
    "pycharm": {
     "name": "#%%\n"
    }
   }
  },
  {
   "cell_type": "code",
   "execution_count": 9,
   "outputs": [
    {
     "name": "stdout",
     "output_type": "stream",
     "text": [
      "[[0.]\n",
      " [0.]\n",
      " [0.]]\n"
     ]
    }
   ],
   "source": [
    "# model init\n",
    "w = np.zeros((num_feature+1,1))\n",
    "print(w)\n",
    "\n",
    "def cross_entropy_loss(y_pred,y):\n",
    "    return -np.mean(y*np.log(y_pred)+(1-y)*np.log(1-y_pred))\n",
    "\n",
    "def sigmoid(x):\n",
    "    return 1 / (1 + np.exp(-x))\n",
    "\n",
    "iterations = 10000\n",
    "lr = 0.1"
   ],
   "metadata": {
    "collapsed": false,
    "pycharm": {
     "name": "#%%\n"
    }
   }
  },
  {
   "cell_type": "code",
   "execution_count": 11,
   "outputs": [
    {
     "name": "stdout",
     "output_type": "stream",
     "text": [
      "[[0.64433789 0.         1.        ]\n",
      " [0.97052765 0.82214302 1.        ]\n",
      " [0.55052644 0.80553865 1.        ]\n",
      " [0.45537946 0.28788552 1.        ]\n",
      " [0.63687092 0.79456443 1.        ]\n",
      " [0.21534562 0.37665957 1.        ]\n",
      " [0.14904502 0.98045516 1.        ]\n",
      " [0.52318448 0.15364614 1.        ]\n",
      " [0.35225201 0.31656414 1.        ]\n",
      " [0.5591495  0.32427782 1.        ]\n",
      " [0.88156801 0.8509782  1.        ]\n",
      " [0.14588234 0.59421057 1.        ]\n",
      " [0.6444968  0.23365523 1.        ]\n",
      " [0.76581746 0.26040751 1.        ]\n",
      " [0.90377581 0.12008007 1.        ]\n",
      " [0.67250407 0.24862531 1.        ]\n",
      " [0.9284302  0.22106177 1.        ]\n",
      " [0.46169755 0.57643771 1.        ]\n",
      " [0.37545303 0.12683012 1.        ]\n",
      " [0.56336975 0.98314321 1.        ]\n",
      " [0.68605322 0.56205136 1.        ]\n",
      " [0.43176425 0.81600136 1.        ]\n",
      " [0.5430494  0.23547986 1.        ]\n",
      " [0.64112151 0.16069672 1.        ]\n",
      " [0.65989107 0.83229077 1.        ]\n",
      " [0.43567654 0.17439301 1.        ]\n",
      " [0.44500887 0.96545857 1.        ]\n",
      " [0.20939718 0.52510375 1.        ]\n",
      " [0.05527779 1.         1.        ]\n",
      " [0.31947097 0.44189149 1.        ]\n",
      " [0.96872222 0.5604285  1.        ]\n",
      " [0.64093006 0.86318815 1.        ]\n",
      " [0.28992334 0.28127071 1.        ]\n",
      " [0.74975854 0.14670505 1.        ]\n",
      " [0.71501625 0.63808841 1.        ]\n",
      " [0.27252406 0.31172025 1.        ]\n",
      " [0.6755749  0.58381671 1.        ]\n",
      " [0.7198143  0.9010728  1.        ]\n",
      " [0.07492279 0.24048881 1.        ]\n",
      " [0.99264938 0.55916625 1.        ]\n",
      " [0.74772197 0.17749076 1.        ]\n",
      " [0.30800053 0.23808314 1.        ]\n",
      " [0.63337362 0.57453501 1.        ]\n",
      " [0.45886031 0.96922904 1.        ]\n",
      " [0.36235553 0.50286508 1.        ]\n",
      " [0.03609594 0.95208621 1.        ]\n",
      " [1.         0.61181092 1.        ]\n",
      " [0.31603068 0.4764345  1.        ]\n",
      " [0.85692728 0.21613955 1.        ]\n",
      " [0.59822583 0.70093715 1.        ]\n",
      " [0.         0.2781716  1.        ]\n",
      " [0.72106385 0.88414049 1.        ]\n",
      " [0.48901585 0.73689193 1.        ]\n",
      " [0.12508389 0.50379884 1.        ]\n",
      " [0.00326632 0.19470452 1.        ]\n",
      " [0.86697334 0.18731588 1.        ]\n",
      " [0.85450447 0.51557159 1.        ]\n",
      " [0.08296783 0.61961776 1.        ]\n",
      " [0.05952842 0.19931197 1.        ]\n",
      " [0.65098906 0.87629449 1.        ]\n",
      " [0.86556631 0.83358306 1.        ]\n",
      " [0.41253451 0.66292256 1.        ]\n",
      " [0.17223446 0.70666802 1.        ]\n",
      " [0.53405404 0.52714384 1.        ]\n",
      " [0.53481036 0.1792275  1.        ]\n",
      " [0.64981252 0.80796486 1.        ]\n",
      " [0.4870427  0.69475728 1.        ]\n",
      " [0.13586995 0.66553527 1.        ]\n",
      " [0.36439288 0.07276572 1.        ]\n",
      " [0.99204046 0.4452537  1.        ]] [[10.21038772]\n",
      " [ 8.46385648]\n",
      " [-8.85819064]]\n",
      "iter:0,loss:0.1887909453930831\n",
      "iter:100,loss:0.18851174456261066\n",
      "iter:200,loss:0.18823779432569843\n",
      "iter:300,loss:0.18796895458545185\n",
      "iter:400,loss:0.18770509019641027\n",
      "iter:500,loss:0.18744607074587463\n",
      "iter:600,loss:0.1871917703468052\n",
      "iter:700,loss:0.18694206744158026\n",
      "iter:800,loss:0.18669684461595018\n",
      "iter:900,loss:0.1864559884225739\n",
      "iter:1000,loss:0.1862193892135619\n",
      "iter:1100,loss:0.18598694098149104\n",
      "iter:1200,loss:0.18575854120839366\n",
      "iter:1300,loss:0.18553409072225516\n",
      "iter:1400,loss:0.18531349356058496\n",
      "iter:1500,loss:0.1850966568406558\n",
      "iter:1600,loss:0.1848834906360332\n",
      "iter:1700,loss:0.1846739078590381\n",
      "iter:1800,loss:0.18446782414881183\n",
      "iter:1900,loss:0.1842651577646736\n",
      "iter:2000,loss:0.184065829484478\n",
      "iter:2100,loss:0.1838697625076997\n",
      "iter:2200,loss:0.18367688236299043\n",
      "iter:2300,loss:0.1834871168199662\n",
      "iter:2400,loss:0.18330039580500213\n",
      "iter:2500,loss:0.18311665132082\n",
      "iter:2600,loss:0.18293581736967124\n",
      "iter:2700,loss:0.1827578298799282\n",
      "iter:2800,loss:0.18258262663590746\n",
      "iter:2900,loss:0.1824101472107579\n",
      "iter:3000,loss:0.18224033290226122\n",
      "iter:3100,loss:0.18207312667139375\n",
      "iter:3200,loss:0.18190847308351396\n",
      "iter:3300,loss:0.1817463182520439\n",
      "iter:3400,loss:0.18158660978452154\n",
      "iter:3500,loss:0.18142929673090744\n",
      "iter:3600,loss:0.1812743295340371\n",
      "iter:3700,loss:0.1811216599821135\n",
      "iter:3800,loss:0.1809712411631444\n",
      "iter:3900,loss:0.18082302742122847\n",
      "iter:4000,loss:0.18067697431460608\n",
      "iter:4100,loss:0.18053303857538944\n",
      "iter:4200,loss:0.18039117807089497\n",
      "iter:4300,loss:0.18025135176650356\n",
      "iter:4400,loss:0.18011351968997713\n",
      "iter:4500,loss:0.1799776428971668\n",
      "iter:4600,loss:0.17984368343904866\n",
      "iter:4700,loss:0.17971160433002606\n",
      "iter:4800,loss:0.17958136951744413\n",
      "iter:4900,loss:0.17945294385226018\n",
      "iter:5000,loss:0.1793262930608204\n",
      "iter:5100,loss:0.17920138371769384\n",
      "iter:5200,loss:0.17907818321951682\n",
      "iter:5300,loss:0.17895665975980518\n",
      "iter:5400,loss:0.17883678230469188\n",
      "iter:5500,loss:0.1787185205695501\n",
      "iter:5600,loss:0.178601844996465\n",
      "iter:5700,loss:0.1784867267325177\n",
      "iter:5800,loss:0.17837313760884704\n",
      "iter:5900,loss:0.1782610501204576\n",
      "iter:6000,loss:0.1781504374067419\n",
      "iter:6100,loss:0.1780412732326885\n",
      "iter:6200,loss:0.1779335319707463\n",
      "iter:6300,loss:0.1778271885833201\n",
      "iter:6400,loss:0.17772221860587054\n",
      "iter:6500,loss:0.17761859813059447\n",
      "iter:6600,loss:0.1775163037906625\n",
      "iter:6700,loss:0.17741531274499237\n",
      "iter:6800,loss:0.17731560266353444\n",
      "iter:6900,loss:0.17721715171305305\n",
      "iter:7000,loss:0.1771199385433804\n",
      "iter:7100,loss:0.17702394227412735\n",
      "iter:7200,loss:0.17692914248183192\n",
      "iter:7300,loss:0.17683551918753\n",
      "iter:7400,loss:0.1767430528447304\n",
      "iter:7500,loss:0.17665172432778045\n",
      "iter:7600,loss:0.17656151492060682\n",
      "iter:7700,loss:0.1764724063058167\n",
      "iter:7800,loss:0.1763843805541476\n",
      "iter:7900,loss:0.17629742011425095\n",
      "iter:8000,loss:0.17621150780279835\n",
      "iter:8100,loss:0.176126626794898\n",
      "iter:8200,loss:0.17604276061481078\n",
      "iter:8300,loss:0.1759598931269537\n",
      "iter:8400,loss:0.17587800852718175\n",
      "iter:8500,loss:0.17579709133433738\n",
      "iter:8600,loss:0.1757171263820575\n",
      "iter:8700,loss:0.17563809881083095\n",
      "iter:8800,loss:0.17555999406029443\n",
      "iter:8900,loss:0.1754827978617613\n",
      "iter:9000,loss:0.17540649623097337\n",
      "iter:9100,loss:0.17533107546106885\n",
      "iter:9200,loss:0.17525652211575826\n",
      "iter:9300,loss:0.1751828230227015\n",
      "iter:9400,loss:0.1751099652670794\n",
      "iter:9500,loss:0.17503793618535246\n",
      "iter:9600,loss:0.1749667233592008\n",
      "iter:9700,loss:0.17489631460963945\n",
      "iter:9800,loss:0.17482669799130218\n",
      "iter:9900,loss:0.1747578617868899\n"
     ]
    }
   ],
   "source": [
    "log = []\n",
    "# gradient descent\n",
    "print(X_train, w)\n",
    "for i in range(iterations):\n",
    "    y_pred = sigmoid(np.matmul(X_train, w))\n",
    "    g = lr*np.mean((y_pred-y_train)*X_train, axis=0).reshape(-1,1)\n",
    "    w -= g\n",
    "    loss = cross_entropy_loss(y_pred,y_train)\n",
    "    if i % 100 == 0:\n",
    "        print('iter:{},loss:{}'.format(i,loss))\n",
    "    log.append([i,loss])\n",
    "    y_pred_test = sigmoid(np.matmul(X_test, w))\n",
    "    loss = cross_entropy_loss(y_pred_test,y_test)\n",
    "#     print('iter:{},val_loss:{}'.format(i,loss))\n"
   ],
   "metadata": {
    "collapsed": false,
    "pycharm": {
     "name": "#%%\n"
    }
   }
  },
  {
   "cell_type": "code",
   "execution_count": 7,
   "outputs": [
    {
     "data": {
      "text/plain": "[<matplotlib.lines.Line2D at 0x2584a2e1a00>]"
     },
     "execution_count": 7,
     "metadata": {},
     "output_type": "execute_result"
    },
    {
     "data": {
      "text/plain": "<Figure size 432x288 with 1 Axes>",
      "image/png": "[encoded data removed]"
     },
     "metadata": {
      "needs_background": "light"
     },
     "output_type": "display_data"
    }
   ],
   "source": [
    "# loss curve visualization\n",
    "log = np.array(log)\n",
    "plt.plot(log[:,0],log[:,1])"
   ],
   "metadata": {
    "collapsed": false,
    "pycharm": {
     "name": "#%%\n"
    }
   }
  },
  {
   "cell_type": "code",
   "execution_count": 13,
   "outputs": [
    {
     "data": {
      "text/plain": "[<matplotlib.lines.Line2D at 0x2584bd4d490>]"
     },
     "execution_count": 13,
     "metadata": {},
     "output_type": "execute_result"
    },
    {
     "data": {
      "text/plain": "<Figure size 432x288 with 1 Axes>",
      "image/png": "[encoded data removed]"
     },
     "metadata": {
      "needs_background": "light"
     },
     "output_type": "display_data"
    }
   ],
   "source": [
    "# visualization\n",
    "plt.scatter(X_train[:,0],X_train[:,1],c=y_train.flatten())\n",
    "x = np.linspace(0,1,10)\n",
    "y = (- w[0]*x - w[2])/w[1]\n",
    "plt.plot(x, y)\n"
   ],
   "metadata": {
    "collapsed": false,
    "pycharm": {
     "name": "#%%\n"
    }
   }
  },
  {
   "cell_type": "code",
   "execution_count": null,
   "outputs": [],
   "source": [],
   "metadata": {
    "collapsed": false,
    "pycharm": {
     "name": "#%%\n"
    }
   }
  }
 ],
 "metadata": {
  "kernelspec": {
   "display_name": "Python 3",
   "language": "python",
   "name": "python3"
  },
  "language_info": {
   "codemirror_mode": {
    "name": "ipython",
    "version": 2
   },
   "file_extension": ".py",
   "mimetype": "text/x-python",
   "name": "python",
   "nbconvert_exporter": "python",
   "pygments_lexer": "ipython2",
   "version": "2.7.6"
  }
 },
 "nbformat": 4,
 "nbformat_minor": 0
}